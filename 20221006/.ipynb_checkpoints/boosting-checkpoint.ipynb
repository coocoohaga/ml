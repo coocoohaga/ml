{
 "cells": [
  {
   "cell_type": "markdown",
   "id": "d255e463",
   "metadata": {},
   "source": [
    "#### sklearn.ensemble.GradientBoostingClassifier\n",
    "* class sklearn.ensemble.GradientBoostingClassifier(*, loss='log_loss', learning_rate=0.1, n_estimators=100, subsample=1.0, criterion='friedman_mse', min_samples_split=2, min_samples_leaf=1, min_weight_fraction_leaf=0.0, max_depth=3, min_impurity_decrease=0.0, init=None, random_state=None, max_features=None, verbose=0, max_leaf_nodes=None, warm_start=False, validation_fraction=0.1, n_iter_no_change=None, tol=0.0001, ccp_alpha=0.0)"
   ]
  },
  {
   "cell_type": "code",
   "execution_count": 6,
   "id": "ba207990",
   "metadata": {
    "ExecuteTime": {
     "end_time": "2022-10-06T03:50:54.470921Z",
     "start_time": "2022-10-06T03:50:54.437011Z"
    }
   },
   "outputs": [
    {
     "name": "stdout",
     "output_type": "stream",
     "text": [
      "전체 피처명에서 10개만 추출: ['tBodyAcc-mean()-X', 'tBodyAcc-mean()-Y', 'tBodyAcc-mean()-Z', 'tBodyAcc-std()-X', 'tBodyAcc-std()-Y', 'tBodyAcc-std()-Z', 'tBodyAcc-mad()-X', 'tBodyAcc-mad()-Y', 'tBodyAcc-mad()-Z', 'tBodyAcc-max()-X']\n"
     ]
    }
   ],
   "source": [
    "import warnings\n",
    "import pandas as pd\n",
    "import matplotlib.pyplot as plt\n",
    "from sklearn.metrics import accuracy_score\n",
    "%matplotlib inline\n",
    "warnings.filterwarnings('ignore')\n",
    "\n",
    "# features.txt 파일에는 피처 이름 index와 피처명이 공백으로 분리되어 있음. 이를 DataFrame으로 로드.\n",
    "feature_name_df = pd.read_csv('../human_activity/features.txt',sep='\\s+', header=None,\n",
    "                             names=['column_index', 'column_name'])\n",
    "# feature_name_df\n",
    "# # 피처명 index를 제거하고, 피처명만 리스트 객체로 생성한 뒤 샘플로 10개만 추출\n",
    "feature_name = feature_name_df.iloc[:, 1].values.tolist()\n",
    "print('전체 피처명에서 10개만 추출:', feature_name[:10])\n"
   ]
  },
  {
   "cell_type": "code",
   "execution_count": 7,
   "id": "1a37bb50",
   "metadata": {
    "ExecuteTime": {
     "end_time": "2022-10-06T03:50:55.109213Z",
     "start_time": "2022-10-06T03:50:55.087272Z"
    }
   },
   "outputs": [],
   "source": [
    "def get_new_feature_name_df(old_feature_name_df):\n",
    "    feature_dup_df = pd.DataFrame(data=old_feature_name_df.groupby('column_name').cumcount(),\n",
    "                                 columns=['dup_cnt'])\n",
    "    feature_dup_df = feature_dup_df.reset_index()\n",
    "    new_feature_name_df = pd.merge(old_feature_name_df.reset_index(), feature_dup_df, how='outer')\n",
    "    new_feature_name_df['column_name'] = new_feature_name_df[['column_name', 'dup_cnt']].apply(lambda x : \n",
    "                                            x[0]+'-'+str(x[1])if x[1] >0 else x[0] , axis=1)\n",
    "    \n",
    "    new_feature_name_df = new_feature_name_df.drop(['index'], axis=1)\n",
    "    return new_feature_name_df"
   ]
  },
  {
   "cell_type": "code",
   "execution_count": 8,
   "id": "042055ec",
   "metadata": {
    "ExecuteTime": {
     "end_time": "2022-10-06T03:51:03.317256Z",
     "start_time": "2022-10-06T03:50:55.793384Z"
    }
   },
   "outputs": [],
   "source": [
    "def get_human_dataset():\n",
    "    # 각 데이터 파일들은 공백으로 분리되어 있으므로 read_csv에서 공백 문자를 sep으로 할당.\n",
    "    feature_name_df = pd.read_csv('../human_activity/features.txt', sep='\\s+',\n",
    "                                 header=None,names=['column_index','column_name'])\n",
    "    \n",
    "    # 중복된 피처명을 수정하는 get_new_feature_name_df()를 이용, 신규 피처명 DataFrame생성.\n",
    "    new_feature_name_df = get_new_feature_name_df(feature_name_df)\n",
    "    \n",
    "    #DataFrame에 피처명을 컬럼으로 부여하기 위해 리스트 객체로 다시 변환\n",
    "    feature_name = new_feature_name_df.iloc[:, 1].values.tolist()\n",
    "    \n",
    "    #학습 피처 데이터 셋과 테스트 피처 데이터를 DataFrame으로 로딩. 컬럼명은 feature_name으로 적용\n",
    "    X_train = pd.read_csv('../human_activity/X_train.txt', sep='\\s+', names=feature_name)\n",
    "    X_test = pd.read_csv('../human_activity/X_test.txt', sep='\\s+' , names=feature_name)\n",
    "    \n",
    "    # 학습 레이블과 테스트 레이블 데이터를 DataFrame으로 로딩하고 컬럼명은 action으로 부여.\n",
    "    y_train = pd.read_csv('../human_activity/y_train.txt' , sep='\\s+', header=None, names=['action'])\n",
    "    y_test = pd.read_csv('../human_activity/y_test.txt', sep='\\s+', header=None, names=['action'])\n",
    "    \n",
    "    # 로드된 학습/테스트용 DataFrame을 모두 반환\n",
    "    return X_train, X_test, y_train, y_test\n",
    "\n",
    "X_train, X_test, y_train, y_test = get_human_dataset()"
   ]
  },
  {
   "cell_type": "code",
   "execution_count": 21,
   "id": "98c95592",
   "metadata": {
    "ExecuteTime": {
     "end_time": "2022-10-06T04:15:49.112508Z",
     "start_time": "2022-10-06T04:00:50.302082Z"
    }
   },
   "outputs": [
    {
     "name": "stdout",
     "output_type": "stream",
     "text": [
      "0.9389209365456397\n",
      "890.882627248764\n"
     ]
    }
   ],
   "source": [
    "from sklearn.ensemble import GradientBoostingClassifier\n",
    "import time\n",
    "import warnings\n",
    "\n",
    "warnings.filterwarnings('ignore')\n",
    "X_train, X_test, y_train, y_test = get_human_dataset()\n",
    "start_time = time.time()\n",
    "gb_clf = GradientBoostingClassifier(random_state=0)\n",
    "gb_clf.fit(X_train,y_train)\n",
    "gb_pred = gb_clf.predict(X_test)\n",
    "gb_accuracy = accuracy_score(y_test, gb_pred)\n",
    "print(gb_accuracy)\n",
    "print(time.time() - start_time)\n"
   ]
  },
  {
   "cell_type": "code",
   "execution_count": 19,
   "id": "7fad585e",
   "metadata": {
    "ExecuteTime": {
     "end_time": "2022-10-06T03:54:37.359605Z",
     "start_time": "2022-10-06T03:54:37.341653Z"
    },
    "scrolled": true
   },
   "outputs": [
    {
     "data": {
      "text/plain": [
       "0       4\n",
       "1       4\n",
       "2       4\n",
       "3       4\n",
       "4       4\n",
       "       ..\n",
       "2942    1\n",
       "2943    1\n",
       "2944    1\n",
       "2945    1\n",
       "2946    1\n",
       "Length: 2947, dtype: int64"
      ]
     },
     "execution_count": 19,
     "metadata": {},
     "output_type": "execute_result"
    }
   ],
   "source": [
    "from sklearn.preprocessing import LabelEncoder\n",
    "\n",
    "le = LabelEncoder()\n",
    "y_train = le.fit_transform(y_train)\n",
    "y_test = le.fit_transform(y_test)\n",
    "pd.Series(y_train)\n",
    "pd.Series(y_test)"
   ]
  },
  {
   "cell_type": "code",
   "execution_count": 20,
   "id": "5d42d85f",
   "metadata": {
    "ExecuteTime": {
     "end_time": "2022-10-06T03:58:07.496743Z",
     "start_time": "2022-10-06T03:54:39.508858Z"
    }
   },
   "outputs": [
    {
     "data": {
      "text/plain": [
       "0.9463861554122837"
      ]
     },
     "execution_count": 20,
     "metadata": {},
     "output_type": "execute_result"
    }
   ],
   "source": [
    "from xgboost import XGBClassifier\n",
    "\n",
    "model = XGBClassifier(n_estimators=500, learning_rate=0.2, max_depth=4, random_state = 32)\n",
    "model.fit(X_train, y_train)\n",
    "\n",
    "y_pred = model.predict(X_test) # 예측 라벨(0과 1로 예측)\n",
    "# 예측 라벨과 실제 라벨 사이의 정확도 측정\n",
    "accuracy_score(y_pred, y_test) # 0.7847533632286996"
   ]
  }
 ],
 "metadata": {
  "kernelspec": {
   "display_name": "Python 3 (ipykernel)",
   "language": "python",
   "name": "python3"
  },
  "language_info": {
   "codemirror_mode": {
    "name": "ipython",
    "version": 3
   },
   "file_extension": ".py",
   "mimetype": "text/x-python",
   "name": "python",
   "nbconvert_exporter": "python",
   "pygments_lexer": "ipython3",
   "version": "3.10.6"
  },
  "toc": {
   "base_numbering": 1,
   "nav_menu": {},
   "number_sections": true,
   "sideBar": true,
   "skip_h1_title": false,
   "title_cell": "Table of Contents",
   "title_sidebar": "Contents",
   "toc_cell": false,
   "toc_position": {},
   "toc_section_display": true,
   "toc_window_display": false
  },
  "varInspector": {
   "cols": {
    "lenName": 16,
    "lenType": 16,
    "lenVar": 40
   },
   "kernels_config": {
    "python": {
     "delete_cmd_postfix": "",
     "delete_cmd_prefix": "del ",
     "library": "var_list.py",
     "varRefreshCmd": "print(var_dic_list())"
    },
    "r": {
     "delete_cmd_postfix": ") ",
     "delete_cmd_prefix": "rm(",
     "library": "var_list.r",
     "varRefreshCmd": "cat(var_dic_list()) "
    }
   },
   "types_to_exclude": [
    "module",
    "function",
    "builtin_function_or_method",
    "instance",
    "_Feature"
   ],
   "window_display": false
  }
 },
 "nbformat": 4,
 "nbformat_minor": 5
}

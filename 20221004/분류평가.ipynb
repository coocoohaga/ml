{
 "cells": [
  {
   "cell_type": "markdown",
   "id": "3529587b",
   "metadata": {},
   "source": [
    "#### sklearn.linear_model.LogisticRegression\n",
    "* class sklearn.linear_model.LogisticRegression(penalty='l2', *, dual=False, tol=0.0001, C=1.0, fit_intercept=True, intercept_scaling=1, class_weight=None, random_state=None, solver='lbfgs', max_iter=100, multi_class='auto', verbose=0, warm_start=False, n_jobs=None, l1_ratio=None)"
   ]
  },
  {
   "cell_type": "code",
   "execution_count": 85,
   "id": "cf8cff93",
   "metadata": {
    "ExecuteTime": {
     "end_time": "2022-10-04T07:24:07.956288Z",
     "start_time": "2022-10-04T07:24:07.918386Z"
    }
   },
   "outputs": [],
   "source": [
    "import pandas as pd\n",
    "from sklearn.model_selection import train_test_split\n",
    "from sklearn.linear_model import LogisticRegression\n",
    "df_titanic = pd.read_csv('../datasets/titanic_train.csv')\n",
    "df_titanic = df_titanic.loc[:,['Survived', 'Sex', 'Age', 'Pclass']]\n",
    "X = df_titanic.loc[:,['Sex', 'Age', 'Pclass']]\n",
    "y = df_titanic['Survived']\n",
    "X['Age'].fillna(method='ffill', inplace=True)\n",
    "from sklearn.preprocessing import LabelEncoder\n",
    "encoder = LabelEncoder()\n",
    "labels = encoder.fit_transform(X['Sex'])\n",
    "X['Sex'] = labels\n",
    "from sklearn.preprocessing import MinMaxScaler\n",
    "scaler = MinMaxScaler()\n",
    "scaler.fit(X[['Age']])\n",
    "age_scaled = scaler.transform(X[['Age']])\n",
    "X['Age']=age_scaled"
   ]
  },
  {
   "cell_type": "markdown",
   "id": "cbbfc626",
   "metadata": {},
   "source": [
    "#### sklearn.metrics.recall_score\n",
    "* sklearn.metrics.recall_score(y_true, y_pred, *, labels=None, pos_label=1, average='binary', sample_weight=None, zero_division='warn')"
   ]
  },
  {
   "cell_type": "markdown",
   "id": "e50b98cb",
   "metadata": {},
   "source": [
    "#### sklearn.metrics.confusion_matrix\n",
    "* sklearn.metrics.confusion_matrix(y_true, y_pred, *, labels=None, sample_weight=None, normalize=None)"
   ]
  },
  {
   "cell_type": "code",
   "execution_count": 86,
   "id": "8247347b",
   "metadata": {
    "ExecuteTime": {
     "end_time": "2022-10-04T07:24:07.986206Z",
     "start_time": "2022-10-04T07:24:07.962284Z"
    }
   },
   "outputs": [],
   "source": [
    "from sklearn.metrics import accuracy_score, precision_score, recall_score, confusion_matrix, f1_score\n",
    "def get_clf_eval(y_test, pred) :\n",
    "    confusion = confusion_matrix(y_test, pred)\n",
    "    accuracy = accuracy_score(y_test, pred)\n",
    "    precision = precision_score(y_test, pred)\n",
    "    recall = recall_score(y_test, pred)\n",
    "    f1score = f1_score(y_test, pred)\n",
    "    print('오차행렬')\n",
    "    print(confusion)\n",
    "    print(f'정확도: {accuracy:^.4f}, 정밀도: {precision:^.4f}, 재현율: {recall:^.4f}, f1score: {f1score:^.4f}')"
   ]
  },
  {
   "cell_type": "code",
   "execution_count": 87,
   "id": "664ce655",
   "metadata": {
    "ExecuteTime": {
     "end_time": "2022-10-04T07:24:08.048039Z",
     "start_time": "2022-10-04T07:24:07.990194Z"
    }
   },
   "outputs": [
    {
     "name": "stdout",
     "output_type": "stream",
     "text": [
      "오차행렬\n",
      "[[101  17]\n",
      " [ 12  49]]\n",
      "정확도: 0.8380, 정밀도: 0.7424, 재현율: 0.8033, f1score: 0.7717\n"
     ]
    }
   ],
   "source": [
    "X_train, X_test, y_train, y_test = train_test_split(X, y, test_size=0.2, random_state=11)\n",
    "lr_clf = LogisticRegression()\n",
    "lr_clf.fit(X_train, y_train)\n",
    "pred = lr_clf.predict(X_test)\n",
    "get_clf_eval(y_test, pred)"
   ]
  },
  {
   "cell_type": "code",
   "execution_count": 88,
   "id": "7c68daab",
   "metadata": {
    "ExecuteTime": {
     "end_time": "2022-10-04T07:24:08.077963Z",
     "start_time": "2022-10-04T07:24:08.056018Z"
    },
    "scrolled": true
   },
   "outputs": [
    {
     "name": "stdout",
     "output_type": "stream",
     "text": [
      "pred_proba()결과 Shape : (179, 2)\n",
      "두개의 class 중에서 더 큰 확률을 클래스 값으로 예측\n",
      " [[0.42558527 0.57441473 1.        ]\n",
      " [0.88833758 0.11166242 0.        ]\n",
      " [0.88651722 0.11348278 0.        ]]\n"
     ]
    }
   ],
   "source": [
    "pred_proba = lr_clf.predict_proba(X_test)\n",
    "pred = lr_clf.predict(X_test)\n",
    "print('pred_proba()결과 Shape : {0}'.format(pred_proba.shape))\n",
    "# 예측확률 array 와 예측 겨과값 array 를 concatenate 하여 예측 확률과 결과값을 한눈에 학인\n",
    "pred_proba_result = np.concatenate([pred_proba, pred.reshape(-1,1)],axis=1)\n",
    "print('두개의 class 중에서 더 큰 확률을 클래스 값으로 예측\\n',pred_proba_result[:3])"
   ]
  },
  {
   "cell_type": "markdown",
   "id": "b388627d",
   "metadata": {},
   "source": [
    "#### sklearn.preprocessing.Binarizer\n",
    "* class sklearn.preprocessing.Binarizer(*, threshold=0.0, copy=True)"
   ]
  },
  {
   "cell_type": "code",
   "execution_count": 89,
   "id": "2a2f82e3",
   "metadata": {
    "ExecuteTime": {
     "end_time": "2022-10-04T07:24:08.125832Z",
     "start_time": "2022-10-04T07:24:08.086936Z"
    }
   },
   "outputs": [
    {
     "name": "stdout",
     "output_type": "stream",
     "text": [
      "오차행렬\n",
      "[[101  17]\n",
      " [ 12  49]]\n",
      "정확도: 0.8380, 정밀도: 0.7424, 재현율: 0.8033, f1score: 0.7717\n"
     ]
    }
   ],
   "source": [
    "from sklearn.preprocessing import Binarizer\n",
    "\n",
    "# Binarizer의 threshold 설정값, 분류 결정 임곗값임.\n",
    "custom_threshold = 0.5\n",
    "\n",
    "# pred_proba() 반환값의 두번째 컬럼, 즉 Positive 클래스 컬럼 하나만 추출하여 Binarizer를 적용\n",
    "pred_proba_1 = pred_proba[:,1].reshape(-1,1)\n",
    "\n",
    "binarizer = Binarizer(threshold=custom_threshold).fit(pred_proba_1)\n",
    "custom_predict = binarizer.transform(pred_proba_1)\n",
    "\n",
    "get_clf_eval(y_test, custom_predict)"
   ]
  },
  {
   "cell_type": "code",
   "execution_count": 90,
   "id": "46378bf2",
   "metadata": {
    "ExecuteTime": {
     "end_time": "2022-10-04T07:24:08.171708Z",
     "start_time": "2022-10-04T07:24:08.129820Z"
    }
   },
   "outputs": [
    {
     "name": "stdout",
     "output_type": "stream",
     "text": [
      "오차행렬\n",
      "[[94 24]\n",
      " [10 51]]\n",
      "정확도: 0.8101, 정밀도: 0.6800, 재현율: 0.8361, f1score: 0.7500\n"
     ]
    }
   ],
   "source": [
    "\n",
    "\n",
    "# Binarizer의 threshold 설정값, 분류 결정 임곗값임.\n",
    "custom_threshold = 0.4\n",
    "\n",
    "# pred_proba() 반환값의 두번째 컬럼, 즉 Positive 클래스 컬럼 하나만 추출하여 Binarizer를 적용\n",
    "pred_proba_1 = pred_proba[:,1].reshape(-1,1)\n",
    "\n",
    "binarizer = Binarizer(threshold=custom_threshold).fit(pred_proba_1)\n",
    "custom_predict = binarizer.transform(pred_proba_1)\n",
    "\n",
    "get_clf_eval(y_test, custom_predict)"
   ]
  },
  {
   "cell_type": "code",
   "execution_count": 91,
   "id": "47378bfc",
   "metadata": {
    "ExecuteTime": {
     "end_time": "2022-10-04T07:24:08.251561Z",
     "start_time": "2022-10-04T07:24:08.177697Z"
    }
   },
   "outputs": [
    {
     "name": "stdout",
     "output_type": "stream",
     "text": [
      "임계값: 0.4\n",
      "오차행렬\n",
      "[[94 24]\n",
      " [10 51]]\n",
      "정확도: 0.8101, 정밀도: 0.6800, 재현율: 0.8361, f1score: 0.7500\n",
      "임계값: 0.45\n",
      "오차행렬\n",
      "[[97 21]\n",
      " [11 50]]\n",
      "정확도: 0.8212, 정밀도: 0.7042, 재현율: 0.8197, f1score: 0.7576\n",
      "임계값: 0.5\n",
      "오차행렬\n",
      "[[101  17]\n",
      " [ 12  49]]\n",
      "정확도: 0.8380, 정밀도: 0.7424, 재현율: 0.8033, f1score: 0.7717\n",
      "임계값: 0.55\n",
      "오차행렬\n",
      "[[107  11]\n",
      " [ 17  44]]\n",
      "정확도: 0.8436, 정밀도: 0.8000, 재현율: 0.7213, f1score: 0.7586\n",
      "임계값: 0.6\n",
      "오차행렬\n",
      "[[111   7]\n",
      " [ 21  40]]\n",
      "정확도: 0.8436, 정밀도: 0.8511, 재현율: 0.6557, f1score: 0.7407\n"
     ]
    }
   ],
   "source": [
    "thresholds = [0.4, 0.45, 0.50, 0.55, 0.60]\n",
    "\n",
    "def get_eval_by_threshold(y_test, pred_proba_c1, thresholds):\n",
    "    #threshold list 객체 내 값을 차례로 iteration하면서 evaluation 수행\n",
    "    for custom_threshold in thresholds:\n",
    "        binarizer = Binarizer(threshold = custom_threshold).fit(pred_proba_c1)\n",
    "        custom_predict = binarizer.transform(pred_proba_c1)\n",
    "        print('임계값:', custom_threshold)\n",
    "        get_clf_eval(y_test, custom_predict)\n",
    "get_eval_by_threshold(y_test, pred_proba[:,1].reshape(-1,1), thresholds)"
   ]
  },
  {
   "cell_type": "markdown",
   "id": "205bd205",
   "metadata": {},
   "source": [
    "#### sklearn.metrics.precision_recall_curve\n",
    "* sklearn.metrics.precision_recall_curve(y_true, probas_pred, *, pos_label=None, sample_weight=None)"
   ]
  },
  {
   "cell_type": "code",
   "execution_count": 92,
   "id": "389f8529",
   "metadata": {
    "ExecuteTime": {
     "end_time": "2022-10-04T07:24:08.283477Z",
     "start_time": "2022-10-04T07:24:08.255552Z"
    }
   },
   "outputs": [
    {
     "name": "stdout",
     "output_type": "stream",
     "text": [
      "반환된 분류 결정 임곗값 배열의 shape (124,)\n",
      "반환된 precisions 배열의 shape (125,)\n",
      "반환된 recalls 배열의 shape (125,)\n",
      "\n",
      "thresholds 5 samples: [0.06556004 0.07136752 0.0776467  0.07896181 0.08303016]\n",
      "precisions 5 samples: [0.34078212 0.34269663 0.34659091 0.35057471 0.35465116]\n",
      "recalls 5 samples: [1. 1. 1. 1. 1.]\n"
     ]
    }
   ],
   "source": [
    "from sklearn.metrics import precision_recall_curve\n",
    "\n",
    "#레이블 값이 1일때의 예츠그 확률울 추출\n",
    "pred_proba_class1 = lr_clf.predict_proba(X_test)[:,1]\n",
    "\n",
    "#실제값 데이터셋과 레이블값이 1일 때의 예측 확률을 precision_recall_curve인자로 입력\n",
    "precisions, recalls, thresholds = precision_recall_curve(y_test, pred_proba_class1)\n",
    "\n",
    "print('반환된 분류 결정 임곗값 배열의 shape', thresholds.shape)\n",
    "print('반환된 precisions 배열의 shape', precisions.shape)\n",
    "print('반환된 recalls 배열의 shape', recalls.shape)\n",
    "print(\"\\nthresholds 5 samples:\", thresholds[:5])\n",
    "print(\"precisions 5 samples:\", precisions[:5])\n",
    "print(\"recalls 5 samples:\", recalls[:5])"
   ]
  },
  {
   "cell_type": "code",
   "execution_count": 93,
   "id": "6d36ec24",
   "metadata": {
    "ExecuteTime": {
     "end_time": "2022-10-04T07:24:08.314397Z",
     "start_time": "2022-10-04T07:24:08.290459Z"
    }
   },
   "outputs": [
    {
     "data": {
      "text/plain": [
       "(125,)"
      ]
     },
     "execution_count": 93,
     "metadata": {},
     "output_type": "execute_result"
    }
   ],
   "source": [
    "precisions.shape"
   ]
  },
  {
   "cell_type": "code",
   "execution_count": 94,
   "id": "471e1a45",
   "metadata": {
    "ExecuteTime": {
     "end_time": "2022-10-04T07:24:08.345312Z",
     "start_time": "2022-10-04T07:24:08.327361Z"
    }
   },
   "outputs": [
    {
     "data": {
      "text/plain": [
       "(125,)"
      ]
     },
     "execution_count": 94,
     "metadata": {},
     "output_type": "execute_result"
    }
   ],
   "source": [
    "recalls.shape"
   ]
  },
  {
   "cell_type": "code",
   "execution_count": 95,
   "id": "22658555",
   "metadata": {
    "ExecuteTime": {
     "end_time": "2022-10-04T07:24:08.550729Z",
     "start_time": "2022-10-04T07:24:08.355285Z"
    }
   },
   "outputs": [
    {
     "data": {
      "image/png": "[encoded data removed]",
      "text/plain": [
       "<Figure size 432x288 with 1 Axes>"
      ]
     },
     "metadata": {
      "needs_background": "light"
     },
     "output_type": "display_data"
    }
   ],
   "source": [
    "import matplotlib.pyplot as plt\n",
    "\n",
    "plt.plot(thresholds, recalls[0:124] , marker='.', label='Recall')\n",
    "plt.plot(thresholds, precisions[0:124], marker='.', label='Precision')\n",
    "plt.legend()\n",
    "plt.show()"
   ]
  },
  {
   "cell_type": "markdown",
   "id": "f9fde311",
   "metadata": {},
   "source": [
    "#### sklearn.metrics.roc_curve\n",
    "* sklearn.metrics.roc_curve(y_true, y_score, *, pos_label=None, sample_weight=None, drop_intermediate=True)"
   ]
  },
  {
   "cell_type": "markdown",
   "id": "61b60fd2",
   "metadata": {},
   "source": [
    "#### sklearn.metrics.roc_auc_score\n",
    "* sklearn.metrics.roc_auc_score(y_true, y_score, *, average='macro', sample_weight=None, max_fpr=None, multi_class='raise', labels=None)"
   ]
  },
  {
   "cell_type": "code",
   "execution_count": 96,
   "id": "df1b7975",
   "metadata": {
    "ExecuteTime": {
     "end_time": "2022-10-04T07:24:08.581662Z",
     "start_time": "2022-10-04T07:24:08.554720Z"
    }
   },
   "outputs": [
    {
     "name": "stdout",
     "output_type": "stream",
     "text": [
      "샘플 추출을 위한 임계값 배열의 index 10개:  [ 1  6 11 16 21 26 31 36 41 46 51 56 61 66]\n",
      "샘플용 10개의 임계값:  [0.95 0.81 0.65 0.6  0.55 0.47 0.4  0.27 0.18 0.13 0.12 0.11 0.1  0.08]\n",
      "샘플 임계값별 FPR:  [0.    0.008 0.025 0.059 0.102 0.178 0.212 0.314 0.466 0.542 0.678 0.754\n",
      " 0.839 0.941]\n",
      "샘플 임계값별 TPR:  [0.016 0.344 0.541 0.656 0.721 0.803 0.852 0.902 0.902 0.918 0.934 0.967\n",
      " 1.    1.   ]\n"
     ]
    }
   ],
   "source": [
    "from sklearn.metrics import roc_curve\n",
    "\n",
    "# 레이블 값이 1일 때 예측 확률을 추출\n",
    "pred_proba_class1 = lr_clf.predict_proba(X_test)[:,1]\n",
    "fprs, tprs, thresholds = roc_curve(y_test, pred_proba_class1)\n",
    "\n",
    "# 반환된 임계값 배열 로우가 47건이므로 샘플로 10건만 추출하되 임계값을 5step으로 추출\n",
    "# thresholds[0]은 max(예측확률)+1로 임의 설정됨. 이를 제외하기 위해 np.arange는 1부터 시작\n",
    "thr_index = np.arange(1, thresholds.shape[0], 5)\n",
    "print('샘플 추출을 위한 임계값 배열의 index 10개: ', thr_index)\n",
    "print('샘플용 10개의 임계값: ', np.round(thresholds[thr_index], 2))\n",
    "\n",
    "# 5 step으로 추출된 임계값에 따른 FPR, TPR 값\n",
    "print('샘플 임계값별 FPR: ', np.round(fprs[thr_index], 3))\n",
    "print('샘플 임계값별 TPR: ', np.round(tprs[thr_index], 3))"
   ]
  },
  {
   "cell_type": "code",
   "execution_count": 97,
   "id": "72ab3130",
   "metadata": {
    "ExecuteTime": {
     "end_time": "2022-10-04T07:24:08.597604Z",
     "start_time": "2022-10-04T07:24:08.588628Z"
    }
   },
   "outputs": [],
   "source": [
    "# plt.plot(fprs[0:10], marker= '.', label='fprs')\n",
    "# plt.plot(tprs[0:10], marker= '.', label='tprs')\n",
    "# plt.legend()\n",
    "# plt.show()"
   ]
  },
  {
   "cell_type": "code",
   "execution_count": 98,
   "id": "1990b4a0",
   "metadata": {
    "ExecuteTime": {
     "end_time": "2022-10-04T07:24:08.628523Z",
     "start_time": "2022-10-04T07:24:08.606582Z"
    }
   },
   "outputs": [],
   "source": [
    "def roc_curve_plot(y_test, pred_proba_class1):\n",
    "    # 임곗값에 따른 FPR, TPR 값을 반환 받음\n",
    "    fprs, tprs, thresholds = roc_curve(y_test, pred_proba_class1)\n",
    "    # ROC Curve를 plot 곡선으로 그림\n",
    "    plt.plot(fprs, tprs, label = 'ROC')\n",
    "    # 가운데 대각선 직선을 그림\n",
    "    plt.plot([0,1], [0,1], 'k--', label='Random')\n",
    "    # FPR X축의 scale을 0.1 단위로 변경, X, Y 축명 설정등\n",
    "    start, end = plt.xlim()\n",
    "    plt.xticks(np.round(np.arange(start, end, 0.1), 2))\n",
    "    plt.xlim(0,1); plt.ylim(0,1)\n",
    "    plt.xlabel('FPR(1-Sensitivity)'); plt.ylabel('TPR(Recall)')\n",
    "    plt.legend()\n",
    "    plt.show()\n",
    "    \n"
   ]
  },
  {
   "cell_type": "code",
   "execution_count": 99,
   "id": "c16560e0",
   "metadata": {
    "ExecuteTime": {
     "end_time": "2022-10-04T07:24:08.863219Z",
     "start_time": "2022-10-04T07:24:08.637499Z"
    }
   },
   "outputs": [
    {
     "data": {
      "image/png": "[encoded data removed]",
      "text/plain": [
       "<Figure size 432x288 with 1 Axes>"
      ]
     },
     "metadata": {
      "needs_background": "light"
     },
     "output_type": "display_data"
    }
   ],
   "source": [
    "roc_curve_plot(y_test, pred_proba_class1)"
   ]
  },
  {
   "cell_type": "markdown",
   "id": "e9f102cb",
   "metadata": {},
   "source": []
  }
 ],
 "metadata": {
  "kernelspec": {
   "display_name": "Python 3 (ipykernel)",
   "language": "python",
   "name": "python3"
  },
  "language_info": {
   "codemirror_mode": {
    "name": "ipython",
    "version": 3
   },
   "file_extension": ".py",
   "mimetype": "text/x-python",
   "name": "python",
   "nbconvert_exporter": "python",
   "pygments_lexer": "ipython3",
   "version": "3.10.6"
  },
  "toc": {
   "base_numbering": 1,
   "nav_menu": {},
   "number_sections": true,
   "sideBar": true,
   "skip_h1_title": false,
   "title_cell": "Table of Contents",
   "title_sidebar": "Contents",
   "toc_cell": false,
   "toc_position": {},
   "toc_section_display": true,
   "toc_window_display": true
  },
  "varInspector": {
   "cols": {
    "lenName": 16,
    "lenType": 16,
    "lenVar": 40
   },
   "kernels_config": {
    "python": {
     "delete_cmd_postfix": "",
     "delete_cmd_prefix": "del ",
     "library": "var_list.py",
     "varRefreshCmd": "print(var_dic_list())"
    },
    "r": {
     "delete_cmd_postfix": ") ",
     "delete_cmd_prefix": "rm(",
     "library": "var_list.r",
     "varRefreshCmd": "cat(var_dic_list()) "
    }
   },
   "types_to_exclude": [
    "module",
    "function",
    "builtin_function_or_method",
    "instance",
    "_Feature"
   ],
   "window_display": false
  }
 },
 "nbformat": 4,
 "nbformat_minor": 5
}
